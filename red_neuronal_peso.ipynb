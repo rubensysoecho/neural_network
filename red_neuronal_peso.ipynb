{
  "nbformat": 4,
  "nbformat_minor": 0,
  "metadata": {
    "colab": {
      "provenance": [],
      "authorship_tag": "ABX9TyP8j1kz/l91VZpK6/oIzQLd",
      "include_colab_link": true
    },
    "kernelspec": {
      "name": "python3",
      "display_name": "Python 3"
    },
    "language_info": {
      "name": "python"
    }
  },
  "cells": [
    {
      "cell_type": "markdown",
      "metadata": {
        "id": "view-in-github",
        "colab_type": "text"
      },
      "source": [
        "<a href=\"https://colab.research.google.com/github/rubensysoecho/neural_network/blob/main/red_neuronal_peso.ipynb\" target=\"_parent\"><img src=\"https://colab.research.google.com/assets/colab-badge.svg\" alt=\"Open In Colab\"/></a>"
      ]
    },
    {
      "cell_type": "code",
      "execution_count": 1,
      "metadata": {
        "id": "brOefn_vVJro"
      },
      "outputs": [],
      "source": [
        "import tensorflow as tf\n",
        "import numpy as np"
      ]
    },
    {
      "cell_type": "code",
      "source": [
        "pesoTierra = np.array([60, 50, 80, 100, 75], dtype = float)\n",
        "pesoLuna = np.array([10.2, 8.5, 13.6, 17, 12.75], dtype = float)"
      ],
      "metadata": {
        "id": "TOPnlVopVTi3"
      },
      "execution_count": 2,
      "outputs": []
    },
    {
      "cell_type": "code",
      "source": [
        "layoutoculta1 = tf.keras.layers.Dense(units = 2, input_shape = [1])\n",
        "layoutoculta2 = tf.keras.layers.Dense(units = 2)\n",
        "salida = tf.keras.layers.Dense(units = 1)\n",
        "modelo = tf.keras.Sequential([layoutoculta1, layoutoculta2, salida])"
      ],
      "metadata": {
        "id": "WYqpQFwtWnu-",
        "outputId": "22379205-9657-4857-e766-54e189a4d713",
        "colab": {
          "base_uri": "https://localhost:8080/"
        }
      },
      "execution_count": 3,
      "outputs": [
        {
          "output_type": "stream",
          "name": "stderr",
          "text": [
            "/usr/local/lib/python3.11/dist-packages/keras/src/layers/core/dense.py:87: UserWarning: Do not pass an `input_shape`/`input_dim` argument to a layer. When using Sequential models, prefer using an `Input(shape)` object as the first layer in the model instead.\n",
            "  super().__init__(activity_regularizer=activity_regularizer, **kwargs)\n"
          ]
        }
      ]
    },
    {
      "cell_type": "code",
      "source": [
        "modelo.compile (\n",
        "    optimizer = tf.keras.optimizers.Adam(0.1),\n",
        "    loss = 'mean_squared_error'\n",
        ")"
      ],
      "metadata": {
        "id": "oBr3_OrHXZp9"
      },
      "execution_count": 4,
      "outputs": []
    },
    {
      "cell_type": "code",
      "source": [
        "print(\"Comenzando entrenamiento...\")\n",
        "historial = modelo.fit(pesoTierra, pesoLuna, epochs = 1000, verbose = False)\n",
        "print(\"Entrenamiento finalizado.\")"
      ],
      "metadata": {
        "colab": {
          "base_uri": "https://localhost:8080/"
        },
        "id": "JeVzRra-YCgl",
        "outputId": "ac6f4334-9f5c-49d6-fd68-205f42636b05"
      },
      "execution_count": 5,
      "outputs": [
        {
          "output_type": "stream",
          "name": "stdout",
          "text": [
            "Comenzando entrenamiento...\n",
            "Entrenamiento finalizado.\n"
          ]
        }
      ]
    },
    {
      "cell_type": "code",
      "source": [
        "import matplotlib.pyplot as mth\n",
        "mth.xlabel(\"# Epoca\")\n",
        "mth.ylabel(\"Magnitud de pérdida\")\n",
        "mth.plot(historial.history[\"loss\"])"
      ],
      "metadata": {
        "colab": {
          "base_uri": "https://localhost:8080/",
          "height": 466
        },
        "id": "cLE9YGEZYOb1",
        "outputId": "8d6fdbb8-0af4-4592-ba96-e16b0a5a2b2c"
      },
      "execution_count": 7,
      "outputs": [
        {
          "output_type": "execute_result",
          "data": {
            "text/plain": [
              "[<matplotlib.lines.Line2D at 0x7f66f243d910>]"
            ]
          },
          "metadata": {},
          "execution_count": 7
        },
        {
          "output_type": "display_data",
          "data": {
            "text/plain": [
              "<Figure size 640x480 with 1 Axes>"
            ],
            "image/png": "[encoded data removed]"
          },
          "metadata": {}
        }
      ]
    },
    {
      "cell_type": "code",
      "source": [
        "peso = input(\"Introduce el peso a predecir: \")\n",
        "\n",
        "try:\n",
        "    peso = float(peso)\n",
        "except ValueError:\n",
        "    print(\"Error: Input must be a number.\")\n",
        "    exit()\n",
        "\n",
        "peso_array = np.array([peso]).reshape(1, -1)\n",
        "\n",
        "resultado = modelo.predict(peso_array)\n",
        "\n",
        "print(\"Peso en la Tierra --> \" + str(peso) + \"kg \\\\ Peso en la Luna --> \" + str(resultado[0][0])) # Access the result correctly."
      ],
      "metadata": {
        "colab": {
          "base_uri": "https://localhost:8080/"
        },
        "id": "-mvEO-mUYiIt",
        "outputId": "70c4ae39-825b-4e83-988c-9a57eff08583"
      },
      "execution_count": 13,
      "outputs": [
        {
          "output_type": "stream",
          "name": "stdout",
          "text": [
            "Introduce el peso a predecir: 90\n",
            "\u001b[1m1/1\u001b[0m \u001b[32m━━━━━━━━━━━━━━━━━━━━\u001b[0m\u001b[37m\u001b[0m \u001b[1m0s\u001b[0m 103ms/step\n",
            "Peso en la Tierra --> 90.0kg \\ Peso en la Luna --> 15.2863\n"
          ]
        }
      ]
    }
  ]
}
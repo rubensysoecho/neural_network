{
  "nbformat": 4,
  "nbformat_minor": 0,
  "metadata": {
    "colab": {
      "provenance": [],
      "collapsed_sections": [],
      "authorship_tag": "ABX9TyMsaLJSvqjFwJAC+gmNiOfL",
      "include_colab_link": true
    },
    "kernelspec": {
      "name": "python3",
      "display_name": "Python 3"
    },
    "language_info": {
      "name": "python"
    }
  },
  "cells": [
    {
      "cell_type": "markdown",
      "metadata": {
        "id": "view-in-github",
        "colab_type": "text"
      },
      "source": [
        "<a href=\"https://colab.research.google.com/github/rubensysoecho/neural_network/blob/main/red_neuronal_peso.ipynb\" target=\"_parent\"><img src=\"https://colab.research.google.com/assets/colab-badge.svg\" alt=\"Open In Colab\"/></a>"
      ]
    },
    {
      "cell_type": "code",
      "execution_count": 2,
      "metadata": {
        "id": "brOefn_vVJro"
      },
      "outputs": [],
      "source": [
        "import tensorflow as tf\n",
        "import numpy as np"
      ]
    },
    {
      "cell_type": "code",
      "source": [
        "pesoTierra = np.array([60, 50, 80, 100, 75], dtype = float)\n",
        "pesoLuna = np.array([10.2, 8.5, 13.6, 17, 12.75], dtype = float)"
      ],
      "metadata": {
        "id": "TOPnlVopVTi3"
      },
      "execution_count": 3,
      "outputs": []
    },
    {
      "cell_type": "code",
      "source": [
        "layoutoculta1 = tf.keras.layers.Dense(units = 2, input_shape = [1])\n",
        "layoutoculta2 = tf.keras.layers.Dense(units = 2)\n",
        "salida = tf.keras.layers.Dense(units = 1)\n",
        "modelo = tf.keras.Sequential([layoutoculta1, layoutoculta2, salida])"
      ],
      "metadata": {
        "id": "WYqpQFwtWnu-"
      },
      "execution_count": 4,
      "outputs": []
    },
    {
      "cell_type": "code",
      "source": [
        "modelo.compile (\n",
        "    optimizer = tf.keras.optimizers.Adam(0.1),\n",
        "    loss = 'mean_squared_error'\n",
        ")"
      ],
      "metadata": {
        "id": "oBr3_OrHXZp9"
      },
      "execution_count": 5,
      "outputs": []
    },
    {
      "cell_type": "code",
      "source": [
        "print(\"Comenzando entrenamiento...\")\n",
        "historial = modelo.fit(pesoTierra, pesoLuna, epochs = 1000, verbose = False)\n",
        "print(\"Entrenamiento finalizado.\")"
      ],
      "metadata": {
        "colab": {
          "base_uri": "https://localhost:8080/"
        },
        "id": "JeVzRra-YCgl",
        "outputId": "1cd8ea14-4290-4d97-c9fc-356bb94e00a1"
      },
      "execution_count": 16,
      "outputs": [
        {
          "output_type": "stream",
          "name": "stdout",
          "text": [
            "Comenzando entrenamiento...\n",
            "Entrenamiento finalizado.\n"
          ]
        }
      ]
    },
    {
      "cell_type": "code",
      "source": [
        "import matplotlib.pyplot as mth\n",
        "mth.xlabel(\"# Epoca\")\n",
        "mth.ylabel(\"Magnitud de pérdida\")\n",
        "mth.plot(historial.history[\"loss\"])"
      ],
      "metadata": {
        "colab": {
          "base_uri": "https://localhost:8080/",
          "height": 296
        },
        "id": "cLE9YGEZYOb1",
        "outputId": "9ed36802-fac2-4df4-93d8-318072e8e848"
      },
      "execution_count": 17,
      "outputs": [
        {
          "output_type": "execute_result",
          "data": {
            "text/plain": [
              "[<matplotlib.lines.Line2D at 0x7fec0b053e10>]"
            ]
          },
          "metadata": {},
          "execution_count": 17
        },
        {
          "output_type": "display_data",
          "data": {
            "text/plain": [
              "<Figure size 432x288 with 1 Axes>"
            ],
            "image/png": "[encoded data removed]"
          },
          "metadata": {
            "needs_background": "light"
          }
        }
      ]
    },
    {
      "cell_type": "code",
      "source": [
        "peso = input(\"Introduce el peso a predecir: \")\n",
        "resultado = modelo.predict([float(peso)])\n",
        "print(\"Peso en la Tierra --> \" + str(peso) + \"kg \\\\ Peso en la Luna --> \" + str(resultado))"
      ],
      "metadata": {
        "colab": {
          "base_uri": "https://localhost:8080/"
        },
        "id": "-mvEO-mUYiIt",
        "outputId": "d47b4d0b-e31c-4039-996c-2b0e1404bf64"
      },
      "execution_count": 18,
      "outputs": [
        {
          "output_type": "stream",
          "name": "stdout",
          "text": [
            "Introduce el peso a predecir: 300\n",
            "1/1 [==============================] - 0s 34ms/step\n",
            "Peso en la Tierra --> 300kg \\ Peso en la Luna --> [[50.996464]]\n"
          ]
        }
      ]
    }
  ]
}